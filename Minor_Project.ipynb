{
  "nbformat": 4,
  "nbformat_minor": 0,
  "metadata": {
    "colab": {
      "name": "Minor_Project.ipynb",
      "provenance": [],
      "mount_file_id": "1cJO9Kogxz-Xn5VMOY7yo0xo2zYxDRbKR",
      "authorship_tag": "ABX9TyMlx33ePXBlchkwWjPIScgD",
      "include_colab_link": true
    },
    "kernelspec": {
      "display_name": "Python 3",
      "name": "python3"
    },
    "language_info": {
      "name": "python"
    }
  },
  "cells": [
    {
      "cell_type": "markdown",
      "metadata": {
        "id": "view-in-github",
        "colab_type": "text"
      },
      "source": [
        "<a href=\"https://colab.research.google.com/github/DEBANGANROY/minor_project/blob/main/Minor_Project.ipynb\" target=\"_parent\"><img src=\"https://colab.research.google.com/assets/colab-badge.svg\" alt=\"Open In Colab\"/></a>"
      ]
    },
    {
      "cell_type": "code",
      "metadata": {
        "colab": {
          "base_uri": "https://localhost:8080/"
        },
        "id": "kaexPIHlzm2H",
        "outputId": "2ffd1e44-84c9-4070-defc-a4cbb64a5790"
      },
      "source": [
        "!pip install bing-image-downloader"
      ],
      "execution_count": null,
      "outputs": [
        {
          "output_type": "stream",
          "text": [
            "Collecting bing-image-downloader\n",
            "  Downloading https://files.pythonhosted.org/packages/0d/bf/537a61030b84ae4cd5022d5c7b014fd9bc3ce7c02358919153a6658a61d3/bing_image_downloader-1.0.4-py3-none-any.whl\n",
            "Installing collected packages: bing-image-downloader\n",
            "Successfully installed bing-image-downloader-1.0.4\n"
          ],
          "name": "stdout"
        }
      ]
    },
    {
      "cell_type": "code",
      "metadata": {
        "id": "vDRgOlbKzwNe"
      },
      "source": [
        "!mkdir images"
      ],
      "execution_count": null,
      "outputs": []
    },
    {
      "cell_type": "code",
      "metadata": {
        "colab": {
          "base_uri": "https://localhost:8080/"
        },
        "id": "dbxIsAEjz_vW",
        "outputId": "31fd5d9e-99d2-4ecd-9bd2-dd82543873b7"
      },
      "source": [
        "# Web-Crawler - gathering data(Step 1)\n",
        "from bing_image_downloader import downloader\n",
        "downloader.download(\"motorbikes\", limit =20, output_dir = 'images' , adult_filter_off = True)"
      ],
      "execution_count": null,
      "outputs": [
        {
          "output_type": "stream",
          "text": [
            "\n",
            "\n",
            "[!!]Indexing page: 1\n",
            "\n",
            "[%] Indexed 20 Images on Page 1.\n",
            "\n",
            "===============================================\n",
            "\n",
            "[%] Downloading Image #1 from https://wp-assets.futurism.com/2019/01/ducati-futuristic-electric-motorcycle-1200x639.png\n",
            "[%] File Downloaded !\n",
            "\n",
            "[%] Downloading Image #2 from https://i.pinimg.com/736x/68/db/91/68db915241d8548ad2bf42d62b9f6398---motorbikes.jpg\n",
            "[%] File Downloaded !\n",
            "\n",
            "[%] Downloading Image #3 from https://i.ebayimg.com/00/s/NjAwWDgwMA==/z/O6kAAOSw13ldj4k9/$_86.PNG\n",
            "[%] File Downloaded !\n",
            "\n",
            "[%] Downloading Image #4 from https://i.pinimg.com/736x/04/97/26/04972631472ce404111e56123b2cab76--motorbikes.jpg\n",
            "[%] File Downloaded !\n",
            "\n",
            "[%] Downloading Image #5 from https://www.all4god.net/uploads/3/2/1/8/32183707/5470246.jpg?255\n",
            "[%] File Downloaded !\n",
            "\n",
            "[%] Downloading Image #6 from https://i.pinimg.com/736x/99/47/cd/9947cdb6863f7c259b38066f9100f73e.jpg\n",
            "[%] File Downloaded !\n",
            "\n",
            "[%] Downloading Image #7 from http://jap-express.com/upload/gallery/image_1527130815.jpg\n",
            "[%] File Downloaded !\n",
            "\n",
            "[%] Downloading Image #8 from http://farm8.staticflickr.com/7024/6526338605_ac65dafc67_b.jpg\n",
            "[Error]Invalid image, not saving http://farm8.staticflickr.com/7024/6526338605_ac65dafc67_b.jpg\n",
            "\n",
            "[!] Issue getting: http://farm8.staticflickr.com/7024/6526338605_ac65dafc67_b.jpg\n",
            "[!] Error:: No active exception to reraise\n",
            "[%] Downloading Image #8 from http://www.thanetonline.com/RamsgateMotorMuseum/03f80e00.jpg\n",
            "[%] File Downloaded !\n",
            "\n",
            "[%] Downloading Image #9 from https://classic-motorbikes.net/wp-content/uploads/2015/10/9795.jpg\n",
            "[%] File Downloaded !\n",
            "\n",
            "[%] Downloading Image #10 from http://i691.photobucket.com/albums/vv280/MrThud/30082008024.jpg\n",
            "[%] File Downloaded !\n",
            "\n",
            "[%] Downloading Image #11 from http://classic-motorbikes.net/wp-content/uploads/2015/10/13396.jpg\n",
            "[%] File Downloaded !\n",
            "\n",
            "[%] Downloading Image #12 from https://www.gamepur.com/files/imagepicker/6/gta-v-wallpaper-2_1.jpg\n"
          ],
          "name": "stdout"
        }
      ]
    },
    {
      "cell_type": "code",
      "metadata": {
        "id": "FoOctL5Q1IVV"
      },
      "source": [
        "downloader.download(\"flowers\", limit = 20, output_dir = 'images' , adult_filter_off = True)"
      ],
      "execution_count": null,
      "outputs": []
    },
    {
      "cell_type": "code",
      "metadata": {
        "colab": {
          "background_save": true
        },
        "id": "b_Qztpa61ucl",
        "outputId": "c715508a-704a-43d0-fc9a-f91423323927"
      },
      "source": [
        "from bing_image_downloader import downloader\n",
        "downloader.download(\"ice cream cone\", limit = 20, output_dir = 'images' , adult_filter_off = True) # adult_filter_off = True - not to get unwanted images"
      ],
      "execution_count": null,
      "outputs": [
        {
          "output_type": "stream",
          "text": [
            "\n",
            "\n",
            "[!!]Indexing page: 1\n",
            "\n",
            "[%] Indexed 12 Images on Page 1.\n",
            "\n",
            "===============================================\n",
            "\n",
            "[%] Downloading Image #1 from https://townsquare.media/site/942/files/2018/07/Ice-Cream-Cone-TSM.jpg?w=1200&amp;h=0&amp;zc=1&amp;s=0&amp;a=t&amp;q=89\n",
            "[%] File Downloaded !\n",
            "\n",
            "[%] Downloading Image #2 from https://geekologie.com/2017/04/26/black-soft-serve-ice-cream-5.jpg\n",
            "[%] File Downloaded !\n",
            "\n",
            "[%] Downloading Image #3 from https://static.standard.co.uk/s3fs-public/thumbnails/image/2017/08/23/10/billionaires-ice-cream.jpg\n",
            "[%] File Downloaded !\n",
            "\n",
            "[%] Downloading Image #4 from https://static.boredpanda.com/blog/wp-content/uploads/2017/04/black-ice-cream-cone-little-damage-4-590085eb5e59a__700.jpg\n",
            "[%] File Downloaded !\n",
            "\n",
            "[%] Downloading Image #5 from https://the-glass-co.com/wp-content/uploads/2016/10/ice-cream-presentation.gif\n",
            "[%] File Downloaded !\n",
            "\n",
            "[%] Downloading Image #6 from https://d28mt5n9lkji5m.cloudfront.net/i/W4DviZ0U8k.jpg\n",
            "[%] File Downloaded !\n",
            "\n",
            "[%] Downloading Image #7 from https://cdn.shopify.com/s/files/1/3045/1030/products/2018-10-26_16.12.57_1024x1024@2x.jpg?v=1570388514\n",
            "[%] File Downloaded !\n",
            "\n",
            "[%] Downloading Image #8 from https://www.roadsideamerica.com/attract/images/mo/MOAFFicecream_laura.jpg\n",
            "[%] File Downloaded !\n",
            "\n",
            "[%] Downloading Image #9 from http://www.awesomeinventions.com/wp-content/uploads/2017/07/Times-People-Lost-The-Food-Lottery-spongebob-popsicle.jpg\n",
            "[%] File Downloaded !\n",
            "\n",
            "[%] Downloading Image #10 from https://c.stocksy.com/a/vkH400/z9/1021569.jpg\n",
            "[%] File Downloaded !\n",
            "\n",
            "[%] Downloading Image #11 from https://c8.alamy.com/comp/EH73TT/a-big-ice-cream-cone-banner-on-display-outside-a-gelateria-rome-italy-EH73TT.jpg\n",
            "[%] File Downloaded !\n",
            "\n",
            "[%] Downloading Image #12 from http://www.roadsideamerica.com/attract/images/il/ILMATtwistee_andy.jpg\n",
            "[%] File Downloaded !\n",
            "\n",
            "\n",
            "\n",
            "[!!]Indexing page: 2\n",
            "\n",
            "[%] Indexed 12 Images on Page 2.\n",
            "\n",
            "===============================================\n",
            "\n",
            "[%] Downloading Image #13 from https://www.bravotv.com/sites/bravo/files/field_blog_image/2016/04/the-feast-overflowing-ice-cream-promote.jpg\n",
            "[%] File Downloaded !\n",
            "\n",
            "[%] Downloading Image #14 from https://www.craftymorning.com/wp-content/uploads/2016/05/cotton-candy-cones-party-favor.jpg\n",
            "[%] File Downloaded !\n",
            "\n",
            "[%] Downloading Image #15 from http://www.unknownmale.com/wp-content/plugins/wp-o-matic/cache/2af49856bb_soft-serve-ice-cream-robot-vending-machine-japan.jpg\n",
            "[%] File Downloaded !\n",
            "\n",
            "[%] Downloading Image #16 from http://spoonssquared.com/wp-content/uploads/2014/07/4-mini-cones.jpg\n",
            "[%] File Downloaded !\n",
            "\n",
            "[%] Downloading Image #17 from http://cdn.onlyinyourstate.com/wp-content/uploads/2016/03/19968658268_e011ef416c_k-700x1049.jpg\n",
            "[%] File Downloaded !\n",
            "\n",
            "[%] Downloading Image #18 from https://c.stocksy.com/a/uDH400/z9/1019522.jpg\n",
            "[%] File Downloaded !\n",
            "\n",
            "[%] Downloading Image #19 from http://www.businesstoday.lk/cpanel/uploader/3128/Cargills-Mafic-Ice-1.jpg.JPEG\n",
            "[%] File Downloaded !\n",
            "\n",
            "[%] Downloading Image #20 from http://etc.usf.edu/clipart/5300/5358/cone_1_lg.gif\n",
            "[%] File Downloaded !\n",
            "\n",
            "\n",
            "\n",
            "[%] Done. Downloaded 20 images.\n",
            "\n",
            "===============================================\n",
            "\n"
          ],
          "name": "stdout"
        }
      ]
    },
    {
      "cell_type": "code",
      "metadata": {
        "colab": {
          "background_save": true
        },
        "id": "S9OmehTO2NXQ"
      },
      "source": [
        "# Preprocessing data(Step 2)\n",
        "\n",
        "import os\n",
        "\n",
        "import numpy as np\n",
        "import pandas as pd\n",
        "\n",
        "import matplotlib.pyplot as plt\n",
        "\n",
        "from skimage.io import imread\n",
        "from skimage.transform import resize"
      ],
      "execution_count": null,
      "outputs": []
    },
    {
      "cell_type": "code",
      "metadata": {
        "colab": {
          "background_save": true
        },
        "id": "96iCp9fPFNXy",
        "outputId": "5f33e2ef-8379-40d0-ace5-2d50069f1015"
      },
      "source": [
        "# Flattening\n",
        "a = np.array([[1,2,3,4],\n",
        "              [5,6,7,8]\n",
        "              ])\n",
        "a.ndim"
      ],
      "execution_count": null,
      "outputs": [
        {
          "output_type": "execute_result",
          "data": {
            "text/plain": [
              "2"
            ]
          },
          "metadata": {
            "tags": []
          },
          "execution_count": 0
        }
      ]
    },
    {
      "cell_type": "code",
      "metadata": {
        "colab": {
          "background_save": true
        },
        "id": "Bcn7eg8sFjOR",
        "outputId": "fd13c932-e830-454a-8489-c954f7d8f073"
      },
      "source": [
        "# how to flatten an matrix to vector(1d array)\n",
        "a.flatten()"
      ],
      "execution_count": null,
      "outputs": [
        {
          "output_type": "execute_result",
          "data": {
            "text/plain": [
              "array([1, 2, 3, 4, 5, 6, 7, 8])"
            ]
          },
          "metadata": {
            "tags": []
          },
          "execution_count": 0
        }
      ]
    },
    {
      "cell_type": "code",
      "metadata": {
        "colab": {
          "background_save": true
        },
        "id": "XjjT8lFB30Dm"
      },
      "source": [
        "# method 1\n",
        "datadir = '/content/images'\n",
        "\n",
        "categories = ['motorbikes', 'flowers', 'ice cream cone'] # write the categories you want to take from the folders\n",
        "\n",
        "target = [] # output\n",
        "flat_data = [] # input\n",
        "images=[]\n",
        "\n",
        "# accessing the data\n",
        "i=0\n",
        "for i in categories:\n",
        "  class_num = categories.index(i) # label encoding the values\n",
        "\n",
        "  path = os.path.join(datadir, i)\n",
        "  \n",
        "  for img in os.listdir(path):\n",
        "   # print(img)\n",
        "    img_array = imread(os.path.join(path,img))\n",
        "\n",
        "    # image resizing\n",
        "    img_resize = resize(img_array,(150, 150,3)) # Value gets converted 0-1 from 0-255\n",
        "\n",
        "    # image flattening\n",
        "    flat_data.append(np.ndarray.flatten(img_resize)) # flattening the images\n",
        "    target.append(class_num)\n",
        "    images.append(img_resize)\n",
        "    \n",
        "    #plt.imshow(img_resize)\n",
        "    #plt.show()\n",
        "\n",
        "# Convert into array\n",
        "\n",
        "flat_data = np.array(flat_data)\n",
        "target = np.array(target)\n",
        "images = np.array(images)"
      ],
      "execution_count": null,
      "outputs": []
    },
    {
      "cell_type": "code",
      "metadata": {
        "colab": {
          "background_save": true
        },
        "id": "Zlv1-8FXrDIW"
      },
      "source": [
        "# split data into training and testing\n",
        "\n",
        "from sklearn.model_selection import train_test_split\n",
        "x_train, x_test, y_train, y_test = train_test_split(flat_data, target,test_size = 0.3, random_state = 0) # taking faltened data for input"
      ],
      "execution_count": null,
      "outputs": []
    },
    {
      "cell_type": "code",
      "metadata": {
        "colab": {
          "background_save": true
        },
        "id": "FfPkmUTBsT0S",
        "outputId": "f98da648-c13b-4955-fdcf-e7601dd6000e"
      },
      "source": [
        "from sklearn.model_selection import GridSearchCV\n",
        "from sklearn import svm\n",
        "param_grid = [\n",
        "              {'C':[1, 10, 100, 1000], 'kernel': ['linear']},\n",
        "              {'C':[1, 10, 100, 1000], 'gamma':[0.001, 0.0001], 'kernel': ['linear']}\n",
        "]\n",
        "\n",
        "svc = svm.SVC(probability=True)\n",
        "clf = GridSearchCV(svc, param_grid)\n",
        "clf.fit(x_train, y_train)"
      ],
      "execution_count": null,
      "outputs": [
        {
          "output_type": "execute_result",
          "data": {
            "text/plain": [
              "GridSearchCV(cv=None, error_score=nan,\n",
              "             estimator=SVC(C=1.0, break_ties=False, cache_size=200,\n",
              "                           class_weight=None, coef0=0.0,\n",
              "                           decision_function_shape='ovr', degree=3,\n",
              "                           gamma='scale', kernel='rbf', max_iter=-1,\n",
              "                           probability=True, random_state=None, shrinking=True,\n",
              "                           tol=0.001, verbose=False),\n",
              "             iid='deprecated', n_jobs=None,\n",
              "             param_grid=[{'C': [1, 10, 100, 1000], 'kernel': ['linear']},\n",
              "                         {'C': [1, 10, 100, 1000], 'gamma': [0.001, 0.0001],\n",
              "                          'kernel': ['linear']}],\n",
              "             pre_dispatch='2*n_jobs', refit=True, return_train_score=False,\n",
              "             scoring=None, verbose=0)"
            ]
          },
          "metadata": {
            "tags": []
          },
          "execution_count": 0
        }
      ]
    },
    {
      "cell_type": "code",
      "metadata": {
        "colab": {
          "background_save": true
        },
        "id": "A5_kx9nG2Pw9",
        "outputId": "6f32e8bc-0bb7-4910-9858-51b1846c11ee"
      },
      "source": [
        "y_pred = clf.predict(x_test)\n",
        "y_pred"
      ],
      "execution_count": null,
      "outputs": [
        {
          "output_type": "execute_result",
          "data": {
            "text/plain": [
              "array([1, 0, 1, 1, 1, 2, 0, 0, 2, 1, 0, 0, 1, 0, 2, 2, 1, 0])"
            ]
          },
          "metadata": {
            "tags": []
          },
          "execution_count": 0
        }
      ]
    },
    {
      "cell_type": "code",
      "metadata": {
        "colab": {
          "background_save": true
        },
        "id": "q2F2Ty9U-Lie",
        "outputId": "ea92aeda-74f9-4f62-eac9-940ac217f82f"
      },
      "source": [
        "y_test"
      ],
      "execution_count": null,
      "outputs": [
        {
          "output_type": "execute_result",
          "data": {
            "text/plain": [
              "array([1, 1, 2, 1, 0, 0, 1, 2, 2, 1, 0, 0, 1, 2, 1, 2, 2, 0])"
            ]
          },
          "metadata": {
            "tags": []
          },
          "execution_count": 0
        }
      ]
    },
    {
      "cell_type": "code",
      "metadata": {
        "colab": {
          "background_save": true
        },
        "id": "2oeJJO5B-MyD"
      },
      "source": [
        "# evaluation\n",
        "\n",
        "from sklearn.metrics import accuracy_score, confusion_matrix"
      ],
      "execution_count": null,
      "outputs": []
    },
    {
      "cell_type": "code",
      "metadata": {
        "colab": {
          "background_save": true
        },
        "id": "PUruzmySTHoj",
        "outputId": "5ee6a921-e7e4-4a08-d423-a39504e6c3e5"
      },
      "source": [
        "accuracy_score(y_pred, y_test)"
      ],
      "execution_count": null,
      "outputs": [
        {
          "output_type": "execute_result",
          "data": {
            "text/plain": [
              "0.5"
            ]
          },
          "metadata": {
            "tags": []
          },
          "execution_count": 0
        }
      ]
    },
    {
      "cell_type": "code",
      "metadata": {
        "colab": {
          "background_save": true
        },
        "id": "y55nYRd6TMt6",
        "outputId": "124dece7-5d85-4773-83bc-a09e14e52824"
      },
      "source": [
        "confusion_matrix(y_pred, y_test)"
      ],
      "execution_count": null,
      "outputs": [
        {
          "output_type": "execute_result",
          "data": {
            "text/plain": [
              "array([[3, 2, 2],\n",
              "       [1, 4, 2],\n",
              "       [1, 1, 2]])"
            ]
          },
          "metadata": {
            "tags": []
          },
          "execution_count": 0
        }
      ]
    },
    {
      "cell_type": "code",
      "metadata": {
        "colab": {
          "background_save": true
        },
        "id": "VQtVsxQ-rRt_",
        "outputId": "406e6023-7ccc-48e8-f1af-b4108265cbce"
      },
      "source": [
        "from xgboost import XGBClassifier\n",
        "model = XGBClassifier()\n",
        "model.fit(x_train,y_train)\n",
        "y_pred = model.predict(x_test)\n",
        "confusion_matrix(y_pred,y_test)\n",
        "accuracy_score(y_pred,y_test)"
      ],
      "execution_count": null,
      "outputs": [
        {
          "output_type": "execute_result",
          "data": {
            "text/plain": [
              "0.2222222222222222"
            ]
          },
          "metadata": {
            "tags": []
          },
          "execution_count": 0
        }
      ]
    },
    {
      "cell_type": "code",
      "metadata": {
        "colab": {
          "background_save": true
        },
        "id": "EcEB7espTUUO"
      },
      "source": [
        "# Saving model using pickel library\n",
        "\n",
        "import pickle\n",
        "pickle.dump(clf, open('img_model.p', 'wb')) # wb - writing byte"
      ],
      "execution_count": null,
      "outputs": []
    },
    {
      "cell_type": "code",
      "metadata": {
        "colab": {
          "background_save": true
        },
        "id": "M-bNLxOfdqyi"
      },
      "source": [
        "model = pickle.load(open('img_model.p', 'rb')) # rb - reading byte"
      ],
      "execution_count": null,
      "outputs": []
    },
    {
      "cell_type": "code",
      "metadata": {
        "id": "A7rQBOCxeJ1t"
      },
      "source": [
        "#testing new image\n",
        "flat_data = []\n",
        "url = input('Enter your url: ')\n",
        "img = imread(url)\n",
        "img_resize = resize(img,(150,150,3))\n",
        "flat_data.append(img_resize.flatten())\n",
        "flat_data = np.array(flat_data)\n",
        "print(img.shape)\n",
        "plt.imshow(img_resize)\n",
        "y_out = model.predict(flat_data)\n",
        "y_out = categories[y_out[0]]\n",
        "print(f'PREDICTED OUTPUT : {y_out}')"
      ],
      "execution_count": null,
      "outputs": []
    }
  ]
}